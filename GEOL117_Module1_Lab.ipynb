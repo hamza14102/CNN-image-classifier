{
  "cells": [
    {
      "cell_type": "markdown",
      "metadata": {
        "id": "view-in-github",
        "colab_type": "text"
      },
      "source": [
        "<a href=\"https://colab.research.google.com/github/hamza14102/CNN-image-classifier/blob/main/GEOL117_Module1_Lab.ipynb\" target=\"_parent\"><img src=\"https://colab.research.google.com/assets/colab-badge.svg\" alt=\"Open In Colab\"/></a>"
      ]
    },
    {
      "cell_type": "markdown",
      "metadata": {
        "id": "OjvYq15gWJDo"
      },
      "source": [
        "# Lab 1: Introduction to Python, Google CoLab, and Jupyter Notebook\n",
        "\n",
        "Welcome to Lab 1! This lab is designed to help you familiarize yourself with Python, Google CoLab, Jupyter Notebook, and GitHub. By the end of this lab, you should be able to execute code in a Jupyter Notebook, make simple modifications to the code, and copy and paste a section of code to start a modified section.\n",
        "\n",
        "#Part 1: Introduction to Python\n",
        "\n",
        "Python is a popular programming language that is widely used in the scientific and data analysis communities. It is known for its simplicity, readability, and flexibility.\n",
        "\n",
        "In this section, you will learn how to execute basic Python code in a Jupyter Notebook.\n",
        "\n",
        "First, let's try running a simple print statement. In the cell below, type print(\"Hello, World!\") and press Shift+Enter to run the code.\n"
      ]
    },
    {
      "cell_type": "code",
      "execution_count": 1,
      "metadata": {
        "colab": {
          "base_uri": "https://localhost:8080/",
          "height": 449
        },
        "id": "g2ZDzHpqYXH8",
        "outputId": "1e0205a5-9b14-49fe-9a63-4decdba6ba96"
      },
      "outputs": [
        {
          "output_type": "stream",
          "name": "stderr",
          "text": [
            "/usr/local/lib/python3.10/dist-packages/IPython/core/display.py:724: UserWarning: Consider using IPython.display.IFrame instead\n",
            "  warnings.warn(\"Consider using IPython.display.IFrame instead\")\n"
          ]
        },
        {
          "output_type": "display_data",
          "data": {
            "text/plain": [
              "<IPython.core.display.HTML object>"
            ],
            "text/html": [
              "<iframe id=\"kmsembed-1_vcoh14q1\" width=\"640\" height=\"394\" src=\"https://mediaspace.illinois.edu/embed/secure/iframe/entryId/1_vcoh14q1/uiConfId/26883701/st/0\" class=\"kmsembed\" allowfullscreen webkitallowfullscreen mozAllowFullScreen allow=\"autoplay *; fullscreen *; encrypted-media *\" referrerPolicy=\"no-referrer-when-downgrade\" sandbox=\"allow-downloads allow-forms allow-same-origin allow-scripts allow-top-navigation allow-pointer-lock allow-popups allow-modals allow-orientation-lock allow-popups-to-escape-sandbox allow-presentation allow-top-navigation-by-user-activation\" frameborder=\"0\" title=\"GEOL117_L1_Vid1\"></iframe>"
            ]
          },
          "metadata": {}
        }
      ],
      "source": [
        "from IPython.core.display import display, HTML\n",
        "\n",
        "display(HTML('<iframe id=\"kmsembed-1_vcoh14q1\" width=\"640\" height=\"394\" src=\"https://mediaspace.illinois.edu/embed/secure/iframe/entryId/1_vcoh14q1/uiConfId/26883701/st/0\" class=\"kmsembed\" allowfullscreen webkitallowfullscreen mozAllowFullScreen allow=\"autoplay *; fullscreen *; encrypted-media *\" referrerPolicy=\"no-referrer-when-downgrade\" sandbox=\"allow-downloads allow-forms allow-same-origin allow-scripts allow-top-navigation allow-pointer-lock allow-popups allow-modals allow-orientation-lock allow-popups-to-escape-sandbox allow-presentation allow-top-navigation-by-user-activation\" frameborder=\"0\" title=\"GEOL117_L1_Vid1\"></iframe>'))\n"
      ]
    },
    {
      "cell_type": "code",
      "execution_count": 2,
      "metadata": {
        "colab": {
          "base_uri": "https://localhost:8080/"
        },
        "id": "7DX-6I5iVZDu",
        "outputId": "aa978c78-140e-4d0c-b037-76700d0b2007"
      },
      "outputs": [
        {
          "output_type": "stream",
          "name": "stdout",
          "text": [
            "Hello, World!\n"
          ]
        }
      ],
      "source": [
        "print(\"Hello, World!\")"
      ]
    },
    {
      "cell_type": "markdown",
      "metadata": {
        "id": "H9NfhDIEVbS9"
      },
      "source": [
        "\n",
        "Great! You just ran your first Python code.\n",
        "\n",
        "Now let's try a simple mathematical operation. In the cell below, type 2 + 2 and press Shift+Enter to run the code."
      ]
    },
    {
      "cell_type": "code",
      "execution_count": 3,
      "metadata": {
        "id": "wGBS6vBtVkWK",
        "outputId": "853f5f3a-b006-4ef7-adf4-100672b8a905",
        "colab": {
          "base_uri": "https://localhost:8080/"
        }
      },
      "outputs": [
        {
          "output_type": "execute_result",
          "data": {
            "text/plain": [
              "4"
            ]
          },
          "metadata": {},
          "execution_count": 3
        }
      ],
      "source": [
        "2 + 2"
      ]
    },
    {
      "cell_type": "markdown",
      "metadata": {
        "id": "VuzBl2SJVVSl"
      },
      "source": [
        "### Variables and Data Types\n",
        "\n",
        "In Python, you can create variables to store values. A variable is a named location in memory where you can store a value.\n",
        "\n",
        "To create a variable in Python, you can use the `=` operator. For example:\n"
      ]
    },
    {
      "cell_type": "code",
      "execution_count": 4,
      "metadata": {
        "id": "TlsH2MMWam8p",
        "outputId": "ed65f6e5-8d9c-4b4a-d8a5-3584e2b6d460",
        "colab": {
          "base_uri": "https://localhost:8080/"
        }
      },
      "outputs": [
        {
          "output_type": "stream",
          "name": "stdout",
          "text": [
            "30\n"
          ]
        }
      ],
      "source": [
        "x = 10\n",
        "y = 20\n",
        "z = x + y\n",
        "\n",
        "# Print the value of z\n",
        "print(z)"
      ]
    },
    {
      "cell_type": "markdown",
      "metadata": {
        "id": "9L0jqi2GaqRY"
      },
      "source": [
        "This code creates three variables: x, y, and z. The value of x is 10, the value of y is 20, and the value of z is the sum of x and y, which is 30.\n",
        "\n",
        "In Python, variables can be of different data types, such as integers, floats, strings, and booleans.\n",
        "\n",
        "An integer is a whole number, such as 10, 20, or 30.\n",
        "\n",
        "A float is a decimal number, such as 3.14, 2.718, or 1.6180.\n",
        "\n",
        "A string is a sequence of characters, such as \"Hello\", \"World\", or \"Python\". Strings must be enclosed in quotation marks.\n",
        "\n",
        "A boolean is a value that is either True or False.\n",
        "\n",
        "You can use the type function to determine the data type of a variable. For example:"
      ]
    },
    {
      "cell_type": "code",
      "execution_count": 5,
      "metadata": {
        "colab": {
          "base_uri": "https://localhost:8080/"
        },
        "id": "s4X3ULv6Vqt7",
        "outputId": "f2d9e832-fb19-480c-e67e-adfd99892305"
      },
      "outputs": [
        {
          "output_type": "stream",
          "name": "stdout",
          "text": [
            "<class 'int'>\n",
            "<class 'float'>\n",
            "<class 'str'>\n"
          ]
        }
      ],
      "source": [
        "# Create variables x, y, and z\n",
        "x = 10\n",
        "y = 20.0\n",
        "z = \"Python\"\n",
        "\n",
        "# Print the data type of each variable\n",
        "print(type(x))\n",
        "print(type(y))\n",
        "print(type(z))"
      ]
    },
    {
      "cell_type": "markdown",
      "metadata": {
        "id": "KVO9VkiGVvCQ"
      },
      "source": [
        "This code creates three variables: x, y, and z. The value of x is an integer, the value of y is a float, and the value of z is a string.\n",
        "\n",
        "Next, here is an example of calculating the area of a circle in Python:"
      ]
    },
    {
      "cell_type": "code",
      "execution_count": 6,
      "metadata": {
        "id": "V1s1BjpFbBmp",
        "outputId": "65bdbaf8-3dba-4e96-e9a7-da7933a70966",
        "colab": {
          "base_uri": "https://localhost:8080/"
        }
      },
      "outputs": [
        {
          "output_type": "stream",
          "name": "stdout",
          "text": [
            "78.53981633974483\n"
          ]
        }
      ],
      "source": [
        "# Import the math module\n",
        "import math\n",
        "\n",
        "# Define the radius of the circle\n",
        "radius = 5\n",
        "\n",
        "# Calculate the area of the circle\n",
        "area = math.pi * radius**2\n",
        "\n",
        "# Print the result\n",
        "print(area)"
      ]
    },
    {
      "cell_type": "markdown",
      "metadata": {
        "id": "mIQu_pEjbIMA"
      },
      "source": [
        "This code calculates the area of a circle with radius 5, which is approximately 78.54.\n",
        "\n",
        "# Basic Operations\n",
        "In Python, you can perform basic arithmetic operations such as addition, subtraction, multiplication, and division.\n",
        "\n",
        "For example:"
      ]
    },
    {
      "cell_type": "code",
      "execution_count": 7,
      "metadata": {
        "id": "UlUCCUohbmKh",
        "outputId": "48422f3f-6400-4399-ee3f-2c38eae14481",
        "colab": {
          "base_uri": "https://localhost:8080/"
        }
      },
      "outputs": [
        {
          "output_type": "stream",
          "name": "stdout",
          "text": [
            "30\n",
            "-10\n",
            "200\n",
            "0.5\n"
          ]
        }
      ],
      "source": [
        "# Add two numbers\n",
        "x = 10\n",
        "y = 20\n",
        "z = x + y\n",
        "print(z)  # prints 30\n",
        "\n",
        "# Subtract two numbers\n",
        "x = 10\n",
        "y = 20\n",
        "z = x - y\n",
        "print(z)  # prints -10\n",
        "\n",
        "# Multiply two numbers\n",
        "x = 10\n",
        "y = 20\n",
        "z = x * y\n",
        "print(z)  # prints 200\n",
        "\n",
        "# Divide two numbers\n",
        "x = 10\n",
        "y = 20\n",
        "z = x / y\n",
        "print(z)  # prints 0.5"
      ]
    },
    {
      "cell_type": "markdown",
      "metadata": {
        "id": "Ako6JGrpbodr"
      },
      "source": [
        "You can also use the % operator to calculate the remainder of a division. For example:"
      ]
    },
    {
      "cell_type": "code",
      "execution_count": 8,
      "metadata": {
        "id": "v4H1IgY6bqfX",
        "outputId": "4f003033-567f-4e7f-8d0b-38d13763ee27",
        "colab": {
          "base_uri": "https://localhost:8080/"
        }
      },
      "outputs": [
        {
          "output_type": "stream",
          "name": "stdout",
          "text": [
            "1\n"
          ]
        }
      ],
      "source": [
        "# Calculate the remainder of a division\n",
        "x = 10\n",
        "y = 3\n",
        "z = x % y\n",
        "print(z)  # prints 1"
      ]
    },
    {
      "cell_type": "markdown",
      "metadata": {
        "id": "x77q7r0KbwO1"
      },
      "source": [
        "You can use the ** operator to calculate the power of a number. For example:"
      ]
    },
    {
      "cell_type": "code",
      "execution_count": 9,
      "metadata": {
        "id": "p7ILXxdibyMW",
        "outputId": "5a97a523-442a-486d-82fd-a8a64c485a65",
        "colab": {
          "base_uri": "https://localhost:8080/"
        }
      },
      "outputs": [
        {
          "output_type": "stream",
          "name": "stdout",
          "text": [
            "8\n"
          ]
        }
      ],
      "source": [
        "# Calculate the power of a number\n",
        "x = 2\n",
        "y = 3\n",
        "z = x ** y\n",
        "print(z)  # prints 8"
      ]
    },
    {
      "cell_type": "code",
      "execution_count": 10,
      "metadata": {
        "colab": {
          "base_uri": "https://localhost:8080/",
          "height": 415
        },
        "id": "dgJCaYZ8Kwbz",
        "outputId": "e637615f-bc49-4af5-8278-2e3f5b98715a"
      },
      "outputs": [
        {
          "output_type": "display_data",
          "data": {
            "text/plain": [
              "<IPython.core.display.HTML object>"
            ],
            "text/html": [
              "<iframe id=\"kmsembed-1_eqqza7cv\" width=\"640\" height=\"394\" src=\"https://mediaspace.illinois.edu/embed/secure/iframe/entryId/1_eqqza7cv/uiConfId/26883701/st/0\" class=\"kmsembed\" allowfullscreen webkitallowfullscreen mozAllowFullScreen allow=\"autoplay *; fullscreen *; encrypted-media *\" referrerPolicy=\"no-referrer-when-downgrade\" sandbox=\"allow-downloads allow-forms allow-same-origin allow-scripts allow-top-navigation allow-pointer-lock allow-popups allow-modals allow-orientation-lock allow-popups-to-escape-sandbox allow-presentation allow-top-navigation-by-user-activation\" frameborder=\"0\" title=\"GEOL117_L1_Vid2\"></iframe>"
            ]
          },
          "metadata": {}
        }
      ],
      "source": [
        "from IPython.core.display import display, HTML\n",
        "\n",
        "display(HTML('<iframe id=\"kmsembed-1_eqqza7cv\" width=\"640\" height=\"394\" src=\"https://mediaspace.illinois.edu/embed/secure/iframe/entryId/1_eqqza7cv/uiConfId/26883701/st/0\" class=\"kmsembed\" allowfullscreen webkitallowfullscreen mozAllowFullScreen allow=\"autoplay *; fullscreen *; encrypted-media *\" referrerPolicy=\"no-referrer-when-downgrade\" sandbox=\"allow-downloads allow-forms allow-same-origin allow-scripts allow-top-navigation allow-pointer-lock allow-popups allow-modals allow-orientation-lock allow-popups-to-escape-sandbox allow-presentation allow-top-navigation-by-user-activation\" frameborder=\"0\" title=\"GEOL117_L1_Vid2\"></iframe>'))\n"
      ]
    },
    {
      "cell_type": "markdown",
      "metadata": {
        "id": "8BEt8Ajob4QY"
      },
      "source": [
        "# Lists\n",
        "In Python, you can create a list to store a collection of values. A list is an ordered collection of items, and each item can be of a different data type.\n",
        "\n",
        "To create a list, you can use square brackets [] and separate the items with commas. For example:\n",
        "\n"
      ]
    },
    {
      "cell_type": "code",
      "execution_count": 11,
      "metadata": {
        "id": "_IAG7Asgb8Q5",
        "outputId": "2b70f60d-685e-43dd-d371-90cd08f3b364",
        "colab": {
          "base_uri": "https://localhost:8080/"
        }
      },
      "outputs": [
        {
          "output_type": "stream",
          "name": "stdout",
          "text": [
            "apple\n",
            "banana\n",
            "cherry\n"
          ]
        }
      ],
      "source": [
        "# Create a list\n",
        "my_list = [\"apple\", \"banana\", \"cherry\"]\n",
        "\n",
        "# Access the first item\n",
        "print(my_list[0])  # prints \"apple\"\n",
        "\n",
        "# Access the second item\n",
        "print(my_list[1])  # prints \"banana\"\n",
        "\n",
        "# Access the third item\n",
        "print(my_list[2])  # prints \"cherry\"\n"
      ]
    },
    {
      "cell_type": "markdown",
      "metadata": {
        "id": "GhK-BssSb95l"
      },
      "source": [
        "You can modify the items in a list by assigning a new value to them. For example:"
      ]
    },
    {
      "cell_type": "code",
      "execution_count": 12,
      "metadata": {
        "id": "WTioFWNScBhG",
        "outputId": "aaa85ab5-2796-433f-ec9f-4234b686baaf",
        "colab": {
          "base_uri": "https://localhost:8080/"
        }
      },
      "outputs": [
        {
          "output_type": "stream",
          "name": "stdout",
          "text": [
            "['apple', 'orange', 'cherry']\n"
          ]
        }
      ],
      "source": [
        "# Create a list\n",
        "my_list = [\"apple\", \"banana\", \"cherry\"]\n",
        "\n",
        "# Modify the second item\n",
        "my_list[1] = \"orange\"\n",
        "print(my_list)  # prints [\"apple\", \"orange\", \"cherry\"]\n"
      ]
    },
    {
      "cell_type": "markdown",
      "metadata": {
        "id": "y8kwrDE7cDze"
      },
      "source": [
        "You can add items to a list using the append method. For example:"
      ]
    },
    {
      "cell_type": "code",
      "execution_count": 13,
      "metadata": {
        "id": "ANeqAmtocGIb",
        "outputId": "f81da6b6-0e00-4fba-e228-530bf3d366d5",
        "colab": {
          "base_uri": "https://localhost:8080/"
        }
      },
      "outputs": [
        {
          "output_type": "stream",
          "name": "stdout",
          "text": [
            "['apple', 'banana', 'cherry', 'orange']\n"
          ]
        }
      ],
      "source": [
        "# Create a list\n",
        "my_list = [\"apple\", \"banana\", \"cherry\"]\n",
        "\n",
        "# Add a new item to the list\n",
        "my_list.append(\"orange\")\n",
        "print(my_list)  # prints [\"apple\", \"banana\", \"cherry\", \"orange\"]\n"
      ]
    },
    {
      "cell_type": "markdown",
      "metadata": {
        "id": "O0xf3j4XcHii"
      },
      "source": [
        "You can remove items from a list using the remove method. For example:"
      ]
    },
    {
      "cell_type": "code",
      "execution_count": 14,
      "metadata": {
        "id": "yoFsq0S2cLxW",
        "outputId": "3d5d62e4-3829-4d43-e3a0-5c692d439cd2",
        "colab": {
          "base_uri": "https://localhost:8080/"
        }
      },
      "outputs": [
        {
          "output_type": "stream",
          "name": "stdout",
          "text": [
            "['apple', 'cherry']\n"
          ]
        }
      ],
      "source": [
        "# Create a list\n",
        "my_list = [\"apple\", \"banana\", \"cherry\"]\n",
        "\n",
        "# Remove the second item from the list\n",
        "my_list.remove(\"banana\")\n",
        "print(my_list)  # prints [\"apple\", \"cherry\"]\n"
      ]
    },
    {
      "cell_type": "markdown",
      "metadata": {
        "id": "IAe2bUI8cPXl"
      },
      "source": [
        "You can also use the del statement to remove items from a list. For example:\n",
        "\n"
      ]
    },
    {
      "cell_type": "code",
      "execution_count": 15,
      "metadata": {
        "id": "DofxKUyvcP9F",
        "outputId": "d9a49e67-477e-4edc-ba36-d83f070d8239",
        "colab": {
          "base_uri": "https://localhost:8080/"
        }
      },
      "outputs": [
        {
          "output_type": "stream",
          "name": "stdout",
          "text": [
            "['apple', 'cherry']\n"
          ]
        }
      ],
      "source": [
        "# Create a list\n",
        "my_list = [\"apple\", \"banana\", \"cherry\"]\n",
        "\n",
        "# Remove the second item from the list\n",
        "del my_list[1]\n",
        "print(my_list)  # prints [\"apple\", \"cherry\"]\n"
      ]
    },
    {
      "cell_type": "code",
      "execution_count": 16,
      "metadata": {
        "colab": {
          "base_uri": "https://localhost:8080/",
          "height": 415
        },
        "id": "mdVF3B3sOOwF",
        "outputId": "57d79396-2897-4362-a833-1b4c10e0def4"
      },
      "outputs": [
        {
          "output_type": "display_data",
          "data": {
            "text/plain": [
              "<IPython.core.display.HTML object>"
            ],
            "text/html": [
              "<iframe id=\"kmsembed-1_otxcggwa\" width=\"640\" height=\"394\" src=\"https://mediaspace.illinois.edu/embed/secure/iframe/entryId/1_otxcggwa/uiConfId/26883701/st/0\" class=\"kmsembed\" allowfullscreen webkitallowfullscreen mozAllowFullScreen allow=\"autoplay *; fullscreen *; encrypted-media *\" referrerPolicy=\"no-referrer-when-downgrade\" sandbox=\"allow-downloads allow-forms allow-same-origin allow-scripts allow-top-navigation allow-pointer-lock allow-popups allow-modals allow-orientation-lock allow-popups-to-escape-sandbox allow-presentation allow-top-navigation-by-user-activation\" frameborder=\"0\" title=\"GEOL117_L1_Vid3\"></iframe>"
            ]
          },
          "metadata": {}
        }
      ],
      "source": [
        "from IPython.core.display import display, HTML\n",
        "\n",
        "display(HTML('<iframe id=\"kmsembed-1_otxcggwa\" width=\"640\" height=\"394\" src=\"https://mediaspace.illinois.edu/embed/secure/iframe/entryId/1_otxcggwa/uiConfId/26883701/st/0\" class=\"kmsembed\" allowfullscreen webkitallowfullscreen mozAllowFullScreen allow=\"autoplay *; fullscreen *; encrypted-media *\" referrerPolicy=\"no-referrer-when-downgrade\" sandbox=\"allow-downloads allow-forms allow-same-origin allow-scripts allow-top-navigation allow-pointer-lock allow-popups allow-modals allow-orientation-lock allow-popups-to-escape-sandbox allow-presentation allow-top-navigation-by-user-activation\" frameborder=\"0\" title=\"GEOL117_L1_Vid3\"></iframe>'))\n"
      ]
    },
    {
      "cell_type": "markdown",
      "metadata": {
        "id": "Yb_ZJxhIcVBj"
      },
      "source": [
        "# Tuples\n",
        "In Python, you can create a tuple to store a collection of values. A tuple is similar to a list, but it is immutable, which means that you cannot modify the items in a tuple.\n",
        "\n",
        "To create a tuple, you can use parentheses () and separate the items with commas. For example:\n",
        "\n"
      ]
    },
    {
      "cell_type": "code",
      "execution_count": 17,
      "metadata": {
        "id": "PXIwryy6cYSr"
      },
      "outputs": [],
      "source": [
        "# Create a tuple of integers\n",
        "my_tuple = (10, 20, 30, 40, 50)\n",
        "\n",
        "# Create a tuple of strings\n",
        "my_tuple = (\"apple\", \"banana\", \"cherry\")\n",
        "\n",
        "# Create a tuple of mixed data types\n",
        "my_tuple = (10, \"apple\", 3.14, True)\n"
      ]
    },
    {
      "cell_type": "markdown",
      "metadata": {
        "id": "M4yUH4hYcaTU"
      },
      "source": [
        "You can access the items in a tuple using their indices. The indices start at 0, so the first item has index 0, the second item has index 1, and so on.\n",
        "\n",
        "For example:"
      ]
    },
    {
      "cell_type": "code",
      "execution_count": 18,
      "metadata": {
        "id": "z0IaSvOIccge",
        "outputId": "d2e3357b-72c3-43c2-b8e0-7d85ac09d768",
        "colab": {
          "base_uri": "https://localhost:8080/"
        }
      },
      "outputs": [
        {
          "output_type": "stream",
          "name": "stdout",
          "text": [
            "apple\n",
            "banana\n",
            "cherry\n"
          ]
        }
      ],
      "source": [
        "# Create a tuple\n",
        "my_tuple = (\"apple\", \"banana\", \"cherry\")\n",
        "\n",
        "# Access the first item\n",
        "print(my_tuple[0])  # prints \"apple\"\n",
        "\n",
        "# Access the second item\n",
        "print(my_tuple[1])  # prints \"banana\"\n",
        "\n",
        "# Access the third item\n",
        "print(my_tuple[2])  # prints \"cherry\"\n"
      ]
    },
    {
      "cell_type": "markdown",
      "metadata": {
        "id": "3npPoZhMcepe"
      },
      "source": [
        "You cannot modify the items in a tuple. If you try to assign a new value to an item in a tuple, you will get a TypeError message.\n",
        "\n",
        "For example:"
      ]
    },
    {
      "cell_type": "code",
      "execution_count": 19,
      "metadata": {
        "id": "HCFUAXuYclfF",
        "outputId": "63499c15-568f-4916-ffc4-869b5421e7da",
        "colab": {
          "base_uri": "https://localhost:8080/",
          "height": 208
        }
      },
      "outputs": [
        {
          "output_type": "error",
          "ename": "TypeError",
          "evalue": "ignored",
          "traceback": [
            "\u001b[0;31m---------------------------------------------------------------------------\u001b[0m",
            "\u001b[0;31mTypeError\u001b[0m                                 Traceback (most recent call last)",
            "\u001b[0;32m<ipython-input-19-dede103312da>\u001b[0m in \u001b[0;36m<cell line: 5>\u001b[0;34m()\u001b[0m\n\u001b[1;32m      3\u001b[0m \u001b[0;34m\u001b[0m\u001b[0m\n\u001b[1;32m      4\u001b[0m \u001b[0;31m# Try to modify the second item\u001b[0m\u001b[0;34m\u001b[0m\u001b[0;34m\u001b[0m\u001b[0m\n\u001b[0;32m----> 5\u001b[0;31m \u001b[0mmy_tuple\u001b[0m\u001b[0;34m[\u001b[0m\u001b[0;36m1\u001b[0m\u001b[0;34m]\u001b[0m \u001b[0;34m=\u001b[0m \u001b[0;34m\"orange\"\u001b[0m  \u001b[0;31m# This line will cause a TypeError\u001b[0m\u001b[0;34m\u001b[0m\u001b[0;34m\u001b[0m\u001b[0m\n\u001b[0m",
            "\u001b[0;31mTypeError\u001b[0m: 'tuple' object does not support item assignment"
          ]
        }
      ],
      "source": [
        "# Create a tuple\n",
        "my_tuple = (\"apple\", \"banana\", \"cherry\")\n",
        "\n",
        "# Try to modify the second item\n",
        "my_tuple[1] = \"orange\"  # This line will cause a TypeError\n"
      ]
    },
    {
      "cell_type": "code",
      "execution_count": 20,
      "metadata": {
        "colab": {
          "base_uri": "https://localhost:8080/",
          "height": 415
        },
        "id": "5RSrkUSBOTgd",
        "outputId": "29c5816a-16dd-4031-ebaf-76a03e1f6a4a"
      },
      "outputs": [
        {
          "output_type": "display_data",
          "data": {
            "text/plain": [
              "<IPython.core.display.HTML object>"
            ],
            "text/html": [
              "<iframe id=\"kmsembed-1_ckwe3az5\" width=\"640\" height=\"394\" src=\"https://mediaspace.illinois.edu/embed/secure/iframe/entryId/1_ckwe3az5/uiConfId/26883701/st/0\" class=\"kmsembed\" allowfullscreen webkitallowfullscreen mozAllowFullScreen allow=\"autoplay *; fullscreen *; encrypted-media *\" referrerPolicy=\"no-referrer-when-downgrade\" sandbox=\"allow-downloads allow-forms allow-same-origin allow-scripts allow-top-navigation allow-pointer-lock allow-popups allow-modals allow-orientation-lock allow-popups-to-escape-sandbox allow-presentation allow-top-navigation-by-user-activation\" frameborder=\"0\" title=\"GEOL117_L1_Vid4\"></iframe>"
            ]
          },
          "metadata": {}
        }
      ],
      "source": [
        "from IPython.core.display import display, HTML\n",
        "\n",
        "display(HTML('<iframe id=\"kmsembed-1_ckwe3az5\" width=\"640\" height=\"394\" src=\"https://mediaspace.illinois.edu/embed/secure/iframe/entryId/1_ckwe3az5/uiConfId/26883701/st/0\" class=\"kmsembed\" allowfullscreen webkitallowfullscreen mozAllowFullScreen allow=\"autoplay *; fullscreen *; encrypted-media *\" referrerPolicy=\"no-referrer-when-downgrade\" sandbox=\"allow-downloads allow-forms allow-same-origin allow-scripts allow-top-navigation allow-pointer-lock allow-popups allow-modals allow-orientation-lock allow-popups-to-escape-sandbox allow-presentation allow-top-navigation-by-user-activation\" frameborder=\"0\" title=\"GEOL117_L1_Vid4\"></iframe>'))\n"
      ]
    },
    {
      "cell_type": "markdown",
      "metadata": {
        "id": "Xy58Y14BcnK6"
      },
      "source": [
        "# Dictionaries\n",
        "In Python, you can create a dictionary to store a collection of key-value pairs. A dictionary is a collection of items that are stored in the form of key-value pairs, where the key is a unique identifier and the value is the data.\n",
        "\n",
        "To create a dictionary, you can use curly braces {} and specify the key-value pairs using the format key: value. For example:"
      ]
    },
    {
      "cell_type": "code",
      "execution_count": 21,
      "metadata": {
        "id": "e0jj5yzFcu2U"
      },
      "outputs": [],
      "source": [
        "# Create a dictionary of integers\n",
        "my_dict = {\n",
        "    \"a\": 10,\n",
        "    \"b\": 20,\n",
        "    \"c\": 30\n",
        "}\n",
        "\n",
        "# Create a dictionary of strings\n",
        "my_dict = {\n",
        "    \"a\": \"apple\",\n",
        "    \"b\": \"banana\",\n",
        "    \"c\": \"cherry\"\n",
        "}\n",
        "\n",
        "# Create a dictionary of mixed data types\n",
        "my_dict = {\n",
        "    \"a\": 10,\n",
        "    \"b\": \"banana\",\n",
        "    \"c\": 3.14\n",
        "}\n"
      ]
    },
    {
      "cell_type": "markdown",
      "metadata": {
        "id": "aQJu3y3KcwbX"
      },
      "source": [
        "You can access the values in a dictionary using the keys. For example:\n"
      ]
    },
    {
      "cell_type": "code",
      "execution_count": 22,
      "metadata": {
        "id": "fDKnSISjcyvj",
        "outputId": "92bfc86e-0c27-4513-87da-edf26ff1b23f",
        "colab": {
          "base_uri": "https://localhost:8080/"
        }
      },
      "outputs": [
        {
          "output_type": "stream",
          "name": "stdout",
          "text": [
            "apple\n",
            "banana\n",
            "cherry\n"
          ]
        }
      ],
      "source": [
        "# Create a dictionary\n",
        "my_dict = {\n",
        "    \"a\": \"apple\",\n",
        "    \"b\": \"banana\",\n",
        "    \"c\": \"cherry\"\n",
        "}\n",
        "\n",
        "# Access the value for the key \"a\"\n",
        "print(my_dict[\"a\"])  # prints \"apple\"\n",
        "\n",
        "# Access the value for the key \"b\"\n",
        "print(my_dict[\"b\"])  # prints \"banana\"\n",
        "\n",
        "# Access the value for the key \"c\"\n",
        "print(my_dict[\"c\"])  # prints \"cherry\"\n"
      ]
    },
    {
      "cell_type": "markdown",
      "metadata": {
        "id": "dRILvlKJc06n"
      },
      "source": [
        "You can modify the values in a dictionary by assigning a new value to a key. For example:\n",
        "\n"
      ]
    },
    {
      "cell_type": "code",
      "execution_count": 23,
      "metadata": {
        "id": "regfG8dgc3QX",
        "outputId": "91c15bf9-99c4-4a1c-8353-70a56702c007",
        "colab": {
          "base_uri": "https://localhost:8080/"
        }
      },
      "outputs": [
        {
          "output_type": "stream",
          "name": "stdout",
          "text": [
            "{'a': 'orange', 'b': 'banana', 'c': 'cherry'}\n"
          ]
        }
      ],
      "source": [
        "# Create a dictionary\n",
        "my_dict = {\n",
        "    \"a\": \"apple\",\n",
        "    \"b\": \"banana\",\n",
        "    \"c\": \"cherry\"\n",
        "}\n",
        "\n",
        "# Modify the value for the key \"a\"\n",
        "my_dict[\"a\"] = \"orange\"\n",
        "print(my_dict)  # prints { \"a\": \"orange\", \"b\": \"banana\", \"c\": \"cherry\" }\n"
      ]
    },
    {
      "cell_type": "markdown",
      "metadata": {
        "id": "1BZHxzCjc5pg"
      },
      "source": [
        "You can add new key-value pairs to a dictionary using the assignment operator =. For example:\n",
        "\n"
      ]
    },
    {
      "cell_type": "code",
      "execution_count": 24,
      "metadata": {
        "id": "GbYWNNxNc78o",
        "outputId": "c6e0c522-cee2-45d4-bf10-6be31be4979a",
        "colab": {
          "base_uri": "https://localhost:8080/"
        }
      },
      "outputs": [
        {
          "output_type": "stream",
          "name": "stdout",
          "text": [
            "{'a': 'apple', 'b': 'banana', 'c': 'cherry', 'd': 'orange'}\n"
          ]
        }
      ],
      "source": [
        "# Create a dictionary\n",
        "my_dict = {\n",
        "    \"a\": \"apple\",\n",
        "    \"b\": \"banana\",\n",
        "    \"c\": \"cherry\"\n",
        "}\n",
        "\n",
        "# Add a new key-value pair to the dictionary\n",
        "my_dict[\"d\"] = \"orange\"\n",
        "print(my_dict)  # prints { \"a\": \"apple\", \"b\": \"banana\", \"c\": \"cherry\", \"d\": \"orange\" }\n"
      ]
    },
    {
      "cell_type": "markdown",
      "metadata": {
        "id": "w3YDVQ1CdCY4"
      },
      "source": [
        "You can remove key-value pairs from a dictionary using the del statement. For example:\n",
        "\n"
      ]
    },
    {
      "cell_type": "code",
      "execution_count": 25,
      "metadata": {
        "id": "o3n9SNbQdETj",
        "outputId": "05785fb2-fc89-45ea-a572-d515a5d98dfc",
        "colab": {
          "base_uri": "https://localhost:8080/"
        }
      },
      "outputs": [
        {
          "output_type": "stream",
          "name": "stdout",
          "text": [
            "{'a': 'apple', 'c': 'cherry'}\n"
          ]
        }
      ],
      "source": [
        "# Create a dictionary\n",
        "my_dict = {\n",
        "    \"a\": \"apple\",\n",
        "    \"b\": \"banana\",\n",
        "    \"c\": \"cherry\"\n",
        "}\n",
        "\n",
        "# Remove the key-value pair for the key \"b\"\n",
        "del my_dict[\"b\"]\n",
        "print(my_dict)  # prints { \"a\": \"apple\", \"c\": \"cherry\" }\n"
      ]
    },
    {
      "cell_type": "code",
      "execution_count": 26,
      "metadata": {
        "colab": {
          "base_uri": "https://localhost:8080/",
          "height": 415
        },
        "id": "DpLpMgHrRLK-",
        "outputId": "f8d4b9a0-529a-4396-913c-7dcabb0700fc"
      },
      "outputs": [
        {
          "output_type": "display_data",
          "data": {
            "text/plain": [
              "<IPython.core.display.HTML object>"
            ],
            "text/html": [
              "<iframe id=\"kmsembed-1_c3wsuqvq\" width=\"640\" height=\"394\" src=\"https://mediaspace.illinois.edu/embed/secure/iframe/entryId/1_c3wsuqvq/uiConfId/26883701/st/0\" class=\"kmsembed\" allowfullscreen webkitallowfullscreen mozAllowFullScreen allow=\"autoplay *; fullscreen *; encrypted-media *\" referrerPolicy=\"no-referrer-when-downgrade\" sandbox=\"allow-downloads allow-forms allow-same-origin allow-scripts allow-top-navigation allow-pointer-lock allow-popups allow-modals allow-orientation-lock allow-popups-to-escape-sandbox allow-presentation allow-top-navigation-by-user-activation\" frameborder=\"0\" title=\"GEOL117_L1_Vid5\"></iframe>"
            ]
          },
          "metadata": {}
        }
      ],
      "source": [
        "from IPython.core.display import display, HTML\n",
        "\n",
        "display(HTML('<iframe id=\"kmsembed-1_c3wsuqvq\" width=\"640\" height=\"394\" src=\"https://mediaspace.illinois.edu/embed/secure/iframe/entryId/1_c3wsuqvq/uiConfId/26883701/st/0\" class=\"kmsembed\" allowfullscreen webkitallowfullscreen mozAllowFullScreen allow=\"autoplay *; fullscreen *; encrypted-media *\" referrerPolicy=\"no-referrer-when-downgrade\" sandbox=\"allow-downloads allow-forms allow-same-origin allow-scripts allow-top-navigation allow-pointer-lock allow-popups allow-modals allow-orientation-lock allow-popups-to-escape-sandbox allow-presentation allow-top-navigation-by-user-activation\" frameborder=\"0\" title=\"GEOL117_L1_Vid5\"></iframe>'))\n"
      ]
    },
    {
      "cell_type": "markdown",
      "metadata": {
        "id": "N3OUSXgJdG2D"
      },
      "source": [
        "# Loops\n",
        "In Python, you can use loops to repeat a block of code multiple times.\n",
        "\n",
        "**'for' loops**\n",
        "\n",
        "A 'for' loop allows you to iterate over a sequence of items, such as a list or a string.\n",
        "\n",
        "For example:"
      ]
    },
    {
      "cell_type": "code",
      "execution_count": 27,
      "metadata": {
        "id": "_e5u5y1CdMzk",
        "outputId": "360399d9-51c9-4fa2-fcec-8b1e4e605316",
        "colab": {
          "base_uri": "https://localhost:8080/"
        }
      },
      "outputs": [
        {
          "output_type": "stream",
          "name": "stdout",
          "text": [
            "1\n",
            "2\n",
            "3\n",
            "4\n",
            "5\n"
          ]
        }
      ],
      "source": [
        "# Print the numbers from 1 to 5\n",
        "for i in range(1, 6):\n",
        "    print(i)\n"
      ]
    },
    {
      "cell_type": "markdown",
      "metadata": {
        "id": "ri28E1chdoSM"
      },
      "source": [
        "The range function generates a sequence of numbers from the start value to the end value (not inclusive).\n",
        "\n",
        "You can also use a for loop to iterate over a list of items.\n",
        "\n",
        "For example:"
      ]
    },
    {
      "cell_type": "code",
      "execution_count": 28,
      "metadata": {
        "id": "VwpX-dledpir",
        "outputId": "b2d68482-f37e-4652-9072-8e4a721c00fb",
        "colab": {
          "base_uri": "https://localhost:8080/"
        }
      },
      "outputs": [
        {
          "output_type": "stream",
          "name": "stdout",
          "text": [
            "apple\n",
            "banana\n",
            "cherry\n"
          ]
        }
      ],
      "source": [
        "# Create a list of fruits\n",
        "fruits = [\"apple\", \"banana\", \"cherry\"]\n",
        "\n",
        "# Print each fruit in the list\n",
        "for fruit in fruits:\n",
        "    print(fruit)\n"
      ]
    },
    {
      "cell_type": "markdown",
      "metadata": {
        "id": "eb6GGeMxdOQR"
      },
      "source": [
        "You can use the enumerate function to iterate over a list of items and get the index of each item.\n",
        "\n",
        "For example:"
      ]
    },
    {
      "cell_type": "code",
      "execution_count": 29,
      "metadata": {
        "id": "Xw_oqeJHdQmR",
        "outputId": "a81184f9-d55e-4c8f-c495-d9718d9f8d0a",
        "colab": {
          "base_uri": "https://localhost:8080/"
        }
      },
      "outputs": [
        {
          "output_type": "stream",
          "name": "stdout",
          "text": [
            "apple\n",
            "banana\n",
            "cherry\n"
          ]
        }
      ],
      "source": [
        "# Create a list of fruits\n",
        "fruits = [\"apple\", \"banana\", \"cherry\"]\n",
        "\n",
        "# Print each fruit in the list\n",
        "for fruit in fruits:\n",
        "    print(fruit)\n"
      ]
    },
    {
      "cell_type": "markdown",
      "metadata": {
        "id": "85x3HJEVdR1M"
      },
      "source": [
        "**'while' loops**\n",
        "A 'while' loop allows you to repeat a block of code as long as a certain condition is met.\n",
        "\n",
        "For example:"
      ]
    },
    {
      "cell_type": "code",
      "execution_count": 30,
      "metadata": {
        "id": "IMZAAL0Od-oc",
        "outputId": "7f559fdf-04a9-41d2-951f-e1e6823d6e7e",
        "colab": {
          "base_uri": "https://localhost:8080/"
        }
      },
      "outputs": [
        {
          "output_type": "stream",
          "name": "stdout",
          "text": [
            "1\n",
            "2\n",
            "3\n",
            "4\n",
            "5\n"
          ]
        }
      ],
      "source": [
        "# Print the numbers from 1 to 5\n",
        "i = 1\n",
        "while i <= 5:\n",
        "    print(i)\n",
        "    i += 1\n"
      ]
    },
    {
      "cell_type": "markdown",
      "metadata": {
        "id": "oLIPq1zreAbB"
      },
      "source": [
        "You can use the 'break' statement to exit a loop early.\n",
        "\n",
        "For example:"
      ]
    },
    {
      "cell_type": "code",
      "execution_count": 31,
      "metadata": {
        "id": "BKRD61KqeDmr",
        "outputId": "05cd5d57-7799-44c6-b5f2-b19938de9c4c",
        "colab": {
          "base_uri": "https://localhost:8080/"
        }
      },
      "outputs": [
        {
          "output_type": "stream",
          "name": "stdout",
          "text": [
            "1\n",
            "2\n"
          ]
        }
      ],
      "source": [
        "# Print the numbers from 1 to 5, but exit the loop early if the number is 3\n",
        "i = 1\n",
        "while i <= 5:\n",
        "    if i == 3:\n",
        "        break\n",
        "    print(i)\n",
        "    i += 1\n"
      ]
    },
    {
      "cell_type": "markdown",
      "metadata": {
        "id": "7ftftEjVeFBV"
      },
      "source": [
        "You can use the 'continue' statement to skip the rest of the current iteration and move on to the next one.\n",
        "\n",
        "For example:"
      ]
    },
    {
      "cell_type": "code",
      "execution_count": 32,
      "metadata": {
        "id": "KALtUiONeIv5",
        "outputId": "c43cb73b-37bc-4484-a69a-21140050216e",
        "colab": {
          "base_uri": "https://localhost:8080/"
        }
      },
      "outputs": [
        {
          "output_type": "stream",
          "name": "stdout",
          "text": [
            "1\n",
            "2\n",
            "4\n",
            "5\n"
          ]
        }
      ],
      "source": [
        "# Print the numbers from 1 to 5, but skip the number 3\n",
        "i = 1\n",
        "while i <= 5:\n",
        "    if i == 3:\n",
        "        i += 1\n",
        "        continue\n",
        "    print(i)\n",
        "    i += 1\n"
      ]
    },
    {
      "cell_type": "markdown",
      "metadata": {
        "id": "eTcEOyBceKVs"
      },
      "source": [
        "#Functions\n",
        "In Python, you can define a function to encapsulate a block of code that you want to reuse.\n",
        "\n",
        "To define a function, you can use the def keyword followed by the function name and a set of parentheses () that may contain parameters. The code block for the function is indented and starts with a colon :.\n",
        "\n",
        "For example:"
      ]
    },
    {
      "cell_type": "code",
      "execution_count": 39,
      "metadata": {
        "id": "6Hm6i2KheaD9"
      },
      "outputs": [],
      "source": [
        "def greet(name):\n",
        "    \"\"\"\n",
        "    Prints a greeting for the given name.\n",
        "    \"\"\"\n",
        "    print(f\"Hello, {name}!\")\n"
      ]
    },
    {
      "cell_type": "markdown",
      "metadata": {
        "id": "FSyMxm3UebfY"
      },
      "source": [
        "To call a function, you can use the function name followed by a set of parentheses () that may contain arguments.\n",
        "\n",
        "For example:"
      ]
    },
    {
      "cell_type": "code",
      "execution_count": 40,
      "metadata": {
        "colab": {
          "base_uri": "https://localhost:8080/"
        },
        "id": "-BdxOjooeeHl",
        "outputId": "263b1c20-5999-4e89-c348-0c4b5728b17f"
      },
      "outputs": [
        {
          "output_type": "stream",
          "name": "stdout",
          "text": [
            "Hello, John!\n",
            "Hello, Mary!\n"
          ]
        }
      ],
      "source": [
        "# Define a function\n",
        "def greet(name):\n",
        "    \"\"\"\n",
        "    Prints a greeting for the given name.\n",
        "    \"\"\"\n",
        "    print(f\"Hello, {name}!\")\n",
        "\n",
        "# Call the function\n",
        "greet(\"John\")  # prints \"Hello, John!\"\n",
        "greet(\"Mary\")  # prints \"Hello, Mary!\"\n"
      ]
    },
    {
      "cell_type": "markdown",
      "metadata": {
        "id": "kTnptgtwegEG"
      },
      "source": [
        "You can define a function with parameters to accept input values. The parameters are specified in the parentheses () after the function name.\n",
        "\n",
        "For example:"
      ]
    },
    {
      "cell_type": "code",
      "execution_count": 41,
      "metadata": {
        "id": "Uhhji0VSeiEe"
      },
      "outputs": [],
      "source": [
        "# Define a function with parameters\n",
        "def add(x, y):\n",
        "    \"\"\"\n",
        "    Returns the sum of x and y.\n",
        "    \"\"\"\n",
        "    return x + y\n",
        "\n",
        "# Call the function with arguments\n",
        "result = add(10, 20)  # result is 30\n"
      ]
    },
    {
      "cell_type": "markdown",
      "metadata": {
        "id": "Nbk0fp03ej7v"
      },
      "source": [
        "You can define a function with a default value for a parameter. If the caller does not provide a value for the parameter, the default value will be used.\n",
        "\n",
        "For example:"
      ]
    },
    {
      "cell_type": "code",
      "execution_count": 42,
      "metadata": {
        "id": "fCsENps-eq64"
      },
      "outputs": [],
      "source": [
        "# Define a function with a default value for a parameter\n",
        "def add(x, y=10):\n",
        "    \"\"\"\n",
        "    Returns the sum of x and y.\n",
        "    \"\"\"\n",
        "    return x + y\n",
        "\n",
        "# Call the function with one argument\n",
        "result = add(10)  # result is 20\n",
        "\n",
        "# Call the function with two arguments\n",
        "result = add(10, 20)  # result is 30\n"
      ]
    },
    {
      "cell_type": "markdown",
      "metadata": {
        "id": "zsaRPO6werh9"
      },
      "source": [
        "You can define a function with a variable number of arguments by using the *args parameter. The *args parameter allows the function to accept any number of arguments as a tuple.\n",
        "\n",
        "For example:"
      ]
    },
    {
      "cell_type": "code",
      "execution_count": 43,
      "metadata": {
        "id": "6wSy7URvet61"
      },
      "outputs": [],
      "source": [
        "# Define a function with a variable number of arguments\n",
        "def add(*args):\n",
        "    \"\"\"\n",
        "    Returns the sum of all arguments.\n",
        "    \"\"\"\n",
        "    total = 0\n",
        "    for i in args:\n",
        "        total += i\n",
        "    return total\n",
        "\n",
        "# Call the function with multiple arguments\n",
        "result = add(1, 2, 3, 4, 5)  # result is 15\n"
      ]
    },
    {
      "cell_type": "markdown",
      "metadata": {
        "id": "Et3ca3eWew7B"
      },
      "source": [
        "You can define a function with a variable number of keyword arguments by using the **kwargs parameter. The **kwargs parameter allows the function to accept any number of keyword arguments as a dictionary.\n",
        "\n",
        "For example:"
      ]
    },
    {
      "cell_type": "code",
      "execution_count": 46,
      "metadata": {
        "id": "ybEeSls1exsO",
        "outputId": "962043d8-2e41-4993-b529-72db069e29ba",
        "colab": {
          "base_uri": "https://localhost:8080/"
        }
      },
      "outputs": [
        {
          "output_type": "stream",
          "name": "stdout",
          "text": [
            "3\n"
          ]
        }
      ],
      "source": [
        "# Define a function with a variable number of keyword arguments\n",
        "def add(**kwargs):\n",
        "    \"\"\"\n",
        "    Returns the sum of all keyword arguments.\n",
        "    \"\"\"\n",
        "    total = 0\n",
        "    for i in kwargs.values():\n",
        "        total += i\n",
        "    return total\n",
        "\n",
        "# Call the function with multiple keyword arguments\n",
        "result = add(x=1,y=2)\n",
        "print(result)\n"
      ]
    },
    {
      "cell_type": "markdown",
      "metadata": {
        "id": "hzX8kx0lVyH4"
      },
      "source": [
        "As you can see, there are many basic concepts in Python that you can use to write simple programs. However, this is just the tip of the iceberg! There are many more advanced features and libraries available in Python that you can use to write more complex programs. While it may be tempting to try to cover everything in one lab, it's important to remember that programming takes time and practice. In this lab, you have learned some basic concepts and had a chance to try them out. In the following weeks, you will have more opportunities to build upon this foundation and learn new skills. So don't worry if you don't feel like an expert yet, programming is a journey and you will continue to improve with practice.\n",
        "\n",
        "# Part 2: Introduction to Google CoLab and Jupyter Notebook\n",
        "In this section, you will learn how to use Google CoLab and Jupyter Notebook to run Python code.\n",
        "\n",
        "Google CoLab is a cloud-based programming environment that allows you to write and execute code from anywhere with an internet connection. It is particularly useful for data analysis and machine learning tasks, as it allows you to access powerful computing resources without the need to set up a local programming environment.\n",
        "\n",
        "Jupyter Notebook is a web-based application that allows you to create and share documents that contain live code, equations, visualizations, and explanatory text. It is a popular tool for data scientists and is often used in conjunction with Google CoLab.\n",
        "\n",
        "To get started with Google CoLab and Jupyter Notebook, you will need to link your GitHub account with Google CoLab. Follow these steps to do so:\n",
        "\n",
        "\n",
        "1.   Go to https://colab.research.google.com/github/. You may need to adjust your pop-up settings in your browser.\n",
        "\n",
        "2.   If you are not already logged in to GitHub, you will be prompted to do so.  If you are already logged in, you will be asked to authorize Colaboratory.\n",
        "\n",
        "3.   You should see a pop-up window with an orange header. Make sure that the option to \"Include private repos\" is checked.\n",
        "\n",
        "4. Navigate to your desired repository and click on the \".ipynb\" file you want to work with. Make sure that your user name is displayed, not someone else's.\n",
        "\n",
        "5. The Jupyter Notebook will open in a new tab in your browser.\n",
        "\n",
        "Now that you have a Jupyter Notebook open, let's try running some code. In the cell below, type print(\"Hello, CoLab!\") and press Shift+Enter to run the code."
      ]
    },
    {
      "cell_type": "markdown",
      "metadata": {
        "id": "4etG2YyfbsrN"
      },
      "source": []
    },
    {
      "cell_type": "code",
      "execution_count": 47,
      "metadata": {
        "colab": {
          "base_uri": "https://localhost:8080/"
        },
        "id": "Eyoq7kUDWyum",
        "outputId": "adb7c541-b042-4df5-8cc9-329fb8720bdd"
      },
      "outputs": [
        {
          "output_type": "stream",
          "name": "stdout",
          "text": [
            "Hello, CoLab!\n"
          ]
        }
      ],
      "source": [
        "print(\"Hello, CoLab!\")"
      ]
    },
    {
      "cell_type": "markdown",
      "metadata": {
        "id": "GcHTzvDlW0fW"
      },
      "source": [
        "You can also use Markdown cells in your Jupyter Notebook to write explanations, notes, and other non-code content. To create a Markdown cell, click on the cell and select \"Markdown\" from the dropdown menu in the toolbar. After entering your text, press `Shift+Enter` to render the content.\n",
        "\n",
        "Using our knowledge of Python, let's compute the area of a circle with a given radius in the cell below:"
      ]
    },
    {
      "cell_type": "code",
      "execution_count": 48,
      "metadata": {
        "colab": {
          "base_uri": "https://localhost:8080/"
        },
        "id": "StlLVAyLW2rN",
        "outputId": "d00238d9-a6d7-4a8e-d127-8abb0d3040b5"
      },
      "outputs": [
        {
          "output_type": "stream",
          "name": "stdout",
          "text": [
            "Enter the radius of the circle: 1\n",
            "The area of the circle with radius 1.0 is 3.14\n"
          ]
        }
      ],
      "source": [
        "from math import pi\n",
        "\n",
        "r = float(input(\"Enter the radius of the circle: \"))\n",
        "A = pi * r**2\n",
        "print(f\"The area of the circle with radius {r} is {A:.2f}\")\n"
      ]
    },
    {
      "cell_type": "markdown",
      "metadata": {
        "id": "qkj4xV9WXAus"
      },
      "source": [
        "# Part 3: Modifying and Copying Code\n",
        "\n",
        "Now that you have learned the basics of Python and Jupyter Notebook, let's try making some simple modifications to the code.\n",
        "\n",
        "In the cell below, write a for loop that prints the numbers from 1 to 10. You can use the following code as a starting point:"
      ]
    },
    {
      "cell_type": "code",
      "execution_count": 52,
      "metadata": {
        "colab": {
          "base_uri": "https://localhost:8080/"
        },
        "id": "0jagbMpyW-pQ",
        "outputId": "c412deb3-ee95-4a22-e0b1-8a3f69e5fc7a"
      },
      "outputs": [
        {
          "output_type": "stream",
          "name": "stdout",
          "text": [
            "1\n",
            "2\n",
            "3\n",
            "4\n",
            "5\n",
            "6\n",
            "7\n",
            "8\n",
            "9\n",
            "10\n"
          ]
        }
      ],
      "source": [
        "for i in range(1, 11):\n",
        "  print(i)"
      ]
    },
    {
      "cell_type": "markdown",
      "metadata": {
        "id": "STTK-dw0XEIa"
      },
      "source": [
        "Try modifying the code to print the numbers from 1 to 20 instead."
      ]
    },
    {
      "cell_type": "code",
      "execution_count": 53,
      "metadata": {
        "colab": {
          "base_uri": "https://localhost:8080/"
        },
        "id": "cKL2107oXE9z",
        "outputId": "69791e9d-a351-4f0d-d64e-39c143693569"
      },
      "outputs": [
        {
          "output_type": "stream",
          "name": "stdout",
          "text": [
            "1\n",
            "2\n",
            "3\n",
            "4\n",
            "5\n",
            "6\n",
            "7\n",
            "8\n",
            "9\n",
            "10\n",
            "11\n",
            "12\n",
            "13\n",
            "14\n",
            "15\n",
            "16\n",
            "17\n",
            "18\n",
            "19\n",
            "20\n"
          ]
        }
      ],
      "source": [
        "for i in range(1, 21):\n",
        "  print(i)"
      ]
    },
    {
      "cell_type": "markdown",
      "metadata": {
        "id": "Wi4eR2mMXJzs"
      },
      "source": [
        "Great! Now let's try copying and pasting a section of code.\n",
        "\n",
        "In the cell below, copy and paste the code you just wrote, but modify it to print the squares of the numbers from 1 to 10 instead of the numbers themselves."
      ]
    },
    {
      "cell_type": "code",
      "execution_count": 54,
      "metadata": {
        "colab": {
          "base_uri": "https://localhost:8080/"
        },
        "id": "IZanllYgXMDM",
        "outputId": "a6fb3713-20b0-44a6-fd3b-beb49953b785"
      },
      "outputs": [
        {
          "output_type": "stream",
          "name": "stdout",
          "text": [
            "1\n",
            "4\n",
            "9\n",
            "16\n",
            "25\n",
            "36\n",
            "49\n",
            "64\n",
            "81\n",
            "100\n"
          ]
        }
      ],
      "source": [
        "for i in range(1, 11):\n",
        "  print(i**2)"
      ]
    },
    {
      "cell_type": "code",
      "execution_count": 55,
      "metadata": {
        "id": "LxBfhr8Bu94F",
        "outputId": "45906a44-e5a2-4ec2-fda5-55e426c87f4f",
        "colab": {
          "base_uri": "https://localhost:8080/"
        }
      },
      "outputs": [
        {
          "output_type": "stream",
          "name": "stdout",
          "text": [
            "Please enter your first name, last name, and netID below:\n",
            "First Name: Mohammad Hamza\n",
            "Last Name: Husain\n",
            "NetID: mhusain3\n",
            "Thank you, Mohammad Hamza Husain. Your netID, mhusain3, has been recorded.\n"
          ]
        }
      ],
      "source": [
        "# Signature Cell\n",
        "\n",
        "print(\"Please enter your first name, last name, and netID below:\")\n",
        "\n",
        "first_name = input(\"First Name: \")\n",
        "last_name = input(\"Last Name: \")\n",
        "netID = input(\"NetID: \")\n",
        "\n",
        "print(f\"Thank you, {first_name} {last_name}. Your netID, {netID}, has been recorded.\")"
      ]
    },
    {
      "cell_type": "markdown",
      "metadata": {
        "id": "A2zp7wBWXNvR"
      },
      "source": [
        "## Part 4: Submitting Your Work\n",
        "\n",
        "### Using Google Colab's GitHub Integration with GitHub Classroom\n",
        "\n",
        "To easily submit your work for this lab via GitHub Classroom and Google Colab's GitHub Integration, follow these steps:\n",
        "\n",
        "1. **Sign Your Work with Your Name and netID**:\n",
        "   - Before saving or submitting, ensure you have clearly signed your notebook. To do this, run the signature cell provided in the notebook.\n",
        "   - This cell will prompt you to input your first name, last name, and netID. Make sure to provide accurate information as this step is crucial for your instructor to match your GitHub account with your personal details.\n",
        "\n",
        "2. **Save Your Work in Colab**:\n",
        "   - Before proceeding, ensure you've saved the latest changes in your Colab notebook.\n",
        "   - You can do this using the `File > Save` menu or by pressing the `Ctrl + S` keyboard shortcut.\n",
        "\n",
        "3. **Link Colab to GitHub**:\n",
        "   - Navigate to the `File` option located at the top left corner of your Colab notebook.\n",
        "   - Select `Save a copy in GitHub` from the dropdown.\n",
        "   - If you're linking Colab with GitHub for the first time, you'll be prompted for permission. Grant the necessary permissions.\n",
        "\n",
        "4. **Commit to Your GitHub Classroom Repository**:\n",
        "   - A dialog box will appear after the above step.\n",
        "   - Choose your specific repository for this assignment from the dropdown (it should have been automatically created via GitHub Classroom).\n",
        "   - Type in a meaningful commit message. For this lab, something like \"Completed Lab 1\" would be fitting.\n",
        "\n",
        "5. **Verify Your Commit on GitHub**:\n",
        "   - Navigate to your GitHub repository for this assignment in a web browser.\n",
        "   - Confirm that your latest changes are visible and that the commit message you provided appears in the commit history.\n",
        "\n",
        "By following the above steps, you've successfully committed your assignment via GitHub Classroom. Your instructor will access and grade your submission directly through GitHub.\n"
      ]
    },
    {
      "cell_type": "code",
      "source": [],
      "metadata": {
        "id": "ww0ccuHwwBYa"
      },
      "execution_count": null,
      "outputs": []
    }
  ],
  "metadata": {
    "colab": {
      "provenance": [],
      "include_colab_link": true
    },
    "kernelspec": {
      "display_name": "Python 3",
      "name": "python3"
    },
    "language_info": {
      "codemirror_mode": {
        "name": "ipython",
        "version": 3
      },
      "file_extension": ".py",
      "mimetype": "text/x-python",
      "name": "python",
      "nbconvert_exporter": "python",
      "pygments_lexer": "ipython3",
      "version": "3.9.6"
    }
  },
  "nbformat": 4,
  "nbformat_minor": 0
}